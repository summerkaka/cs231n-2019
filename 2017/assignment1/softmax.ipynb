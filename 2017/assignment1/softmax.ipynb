{
 "cells": [
  {
   "cell_type": "markdown",
   "metadata": {},
   "source": [
    "# Softmax exercise\n",
    "\n",
    "*Complete and hand in this completed worksheet (including its outputs and any supporting code outside of the worksheet) with your assignment submission. For more details see the [assignments page](http://vision.stanford.edu/teaching/cs231n/assignments.html) on the course website.*\n",
    "\n",
    "This exercise is analogous to the SVM exercise. You will:\n",
    "\n",
    "- implement a fully-vectorized **loss function** for the Softmax classifier\n",
    "- implement the fully-vectorized expression for its **analytic gradient**\n",
    "- **check your implementation** with numerical gradient\n",
    "- use a validation set to **tune the learning rate and regularization** strength\n",
    "- **optimize** the loss function with **SGD**\n",
    "- **visualize** the final learned weights\n"
   ]
  },
  {
   "cell_type": "code",
   "execution_count": 1,
   "metadata": {},
   "outputs": [],
   "source": [
    "import random\n",
    "import numpy as np\n",
    "from cs231n.data_utils import load_CIFAR10\n",
    "import matplotlib.pyplot as plt\n",
    "\n",
    "from __future__ import print_function\n",
    "\n",
    "%matplotlib inline\n",
    "plt.rcParams['figure.figsize'] = (10.0, 8.0) # set default size of plots\n",
    "plt.rcParams['image.interpolation'] = 'nearest'\n",
    "plt.rcParams['image.cmap'] = 'gray'\n",
    "\n",
    "# for auto-reloading extenrnal modules\n",
    "# see http://stackoverflow.com/questions/1907993/autoreload-of-modules-in-ipython\n",
    "%load_ext autoreload\n",
    "%autoreload 2"
   ]
  },
  {
   "cell_type": "code",
   "execution_count": 2,
   "metadata": {},
   "outputs": [
    {
     "name": "stdout",
     "output_type": "stream",
     "text": [
      "Train data shape:  (49000, 3073)\n",
      "Train labels shape:  (49000,)\n",
      "Validation data shape:  (1000, 3073)\n",
      "Validation labels shape:  (1000,)\n",
      "Test data shape:  (1000, 3073)\n",
      "Test labels shape:  (1000,)\n",
      "dev data shape:  (500, 3073)\n",
      "dev labels shape:  (500,)\n"
     ]
    }
   ],
   "source": [
    "def get_CIFAR10_data(num_training=49000, num_validation=1000, num_test=1000, num_dev=500):\n",
    "    \"\"\"\n",
    "    Load the CIFAR-10 dataset from disk and perform preprocessing to prepare\n",
    "    it for the linear classifier. These are the same steps as we used for the\n",
    "    SVM, but condensed to a single function.  \n",
    "    \"\"\"\n",
    "    # Load the raw CIFAR-10 data\n",
    "    cifar10_dir = 'cs231n/datasets/cifar-10-batches-py'\n",
    "    X_train, y_train, X_test, y_test = load_CIFAR10(cifar10_dir)\n",
    "    \n",
    "    # subsample the data\n",
    "    mask = list(range(num_training, num_training + num_validation))\n",
    "    X_val = X_train[mask]\n",
    "    y_val = y_train[mask]\n",
    "    mask = list(range(num_training))\n",
    "    X_train = X_train[mask]\n",
    "    y_train = y_train[mask]\n",
    "    mask = list(range(num_test))\n",
    "    X_test = X_test[mask]\n",
    "    y_test = y_test[mask]\n",
    "    mask = np.random.choice(num_training, num_dev, replace=False)\n",
    "    X_dev = X_train[mask]\n",
    "    y_dev = y_train[mask]\n",
    "    \n",
    "    # Preprocessing: reshape the image data into rows\n",
    "    X_train = np.reshape(X_train, (X_train.shape[0], -1))\n",
    "    X_val = np.reshape(X_val, (X_val.shape[0], -1))\n",
    "    X_test = np.reshape(X_test, (X_test.shape[0], -1))\n",
    "    X_dev = np.reshape(X_dev, (X_dev.shape[0], -1))\n",
    "    \n",
    "    # Normalize the data: subtract the mean image\n",
    "    mean_image = np.mean(X_train, axis = 0)\n",
    "    X_train -= mean_image\n",
    "    X_val -= mean_image\n",
    "    X_test -= mean_image\n",
    "    X_dev -= mean_image\n",
    "    \n",
    "    # add bias dimension and transform into columns\n",
    "    X_train = np.hstack([X_train, np.ones((X_train.shape[0], 1))])\n",
    "    X_val = np.hstack([X_val, np.ones((X_val.shape[0], 1))])\n",
    "    X_test = np.hstack([X_test, np.ones((X_test.shape[0], 1))])\n",
    "    X_dev = np.hstack([X_dev, np.ones((X_dev.shape[0], 1))])\n",
    "    \n",
    "    return X_train, y_train, X_val, y_val, X_test, y_test, X_dev, y_dev\n",
    "\n",
    "\n",
    "# Invoke the above function to get our data.\n",
    "X_train, y_train, X_val, y_val, X_test, y_test, X_dev, y_dev = get_CIFAR10_data()\n",
    "print('Train data shape: ', X_train.shape)\n",
    "print('Train labels shape: ', y_train.shape)\n",
    "print('Validation data shape: ', X_val.shape)\n",
    "print('Validation labels shape: ', y_val.shape)\n",
    "print('Test data shape: ', X_test.shape)\n",
    "print('Test labels shape: ', y_test.shape)\n",
    "print('dev data shape: ', X_dev.shape)\n",
    "print('dev labels shape: ', y_dev.shape)"
   ]
  },
  {
   "cell_type": "markdown",
   "metadata": {},
   "source": [
    "## Softmax Classifier\n",
    "\n",
    "Your code for this section will all be written inside **cs231n/classifiers/softmax.py**. \n"
   ]
  },
  {
   "cell_type": "code",
   "execution_count": 3,
   "metadata": {},
   "outputs": [
    {
     "name": "stdout",
     "output_type": "stream",
     "text": [
      "loss: 2.301358\n",
      "sanity check: 2.302585\n"
     ]
    }
   ],
   "source": [
    "# First implement the naive softmax loss function with nested loops.\n",
    "# Open the file cs231n/classifiers/softmax.py and implement the\n",
    "# softmax_loss_naive function.\n",
    "\n",
    "from cs231n.classifiers.softmax import softmax_loss_naive\n",
    "import time\n",
    "\n",
    "# Generate a random softmax weight matrix and use it to compute the loss.\n",
    "W = np.random.randn(3073, 10) * 0.0001\n",
    "loss, grad = softmax_loss_naive(W, X_dev, y_dev, 0.0)\n",
    "\n",
    "# As a rough sanity check, our loss should be something close to -log(0.1).\n",
    "print('loss: %f' % loss)\n",
    "print('sanity check: %f' % (-np.log(0.1)))"
   ]
  },
  {
   "cell_type": "markdown",
   "metadata": {},
   "source": [
    "## Inline Question 1:\n",
    "Why do we expect our loss to be close to -log(0.1)? Explain briefly.**\n",
    "\n",
    "**Your answer:** *Fill this in*\n"
   ]
  },
  {
   "cell_type": "code",
   "execution_count": 4,
   "metadata": {},
   "outputs": [
    {
     "name": "stdout",
     "output_type": "stream",
     "text": [
      "numerical: 0.174729 analytic: 0.174729, relative error: 3.284783e-09\n",
      "numerical: 0.430429 analytic: 0.430429, relative error: 6.110577e-08\n",
      "numerical: 2.429297 analytic: 2.429297, relative error: 1.391935e-08\n",
      "numerical: -0.617137 analytic: -0.617137, relative error: 9.964318e-08\n",
      "numerical: -2.052765 analytic: -2.052765, relative error: 3.977693e-08\n",
      "numerical: -1.495307 analytic: -1.495308, relative error: 4.447738e-08\n",
      "numerical: 0.977531 analytic: 0.977530, relative error: 3.687229e-08\n",
      "numerical: 3.644644 analytic: 3.644643, relative error: 2.206581e-08\n",
      "numerical: -1.501764 analytic: -1.501764, relative error: 2.131062e-08\n",
      "numerical: -0.462997 analytic: -0.462997, relative error: 6.154658e-09\n",
      "numerical: -0.894346 analytic: -0.894346, relative error: 1.837381e-08\n",
      "numerical: 0.955729 analytic: 0.955729, relative error: 2.051410e-08\n",
      "numerical: 0.007026 analytic: 0.007026, relative error: 3.482743e-06\n",
      "numerical: -1.115470 analytic: -1.115470, relative error: 5.250453e-08\n",
      "numerical: -1.011530 analytic: -1.011530, relative error: 3.757035e-09\n",
      "numerical: -3.756974 analytic: -3.756974, relative error: 2.551066e-08\n",
      "numerical: 1.369706 analytic: 1.369706, relative error: 1.217839e-08\n",
      "numerical: -0.873828 analytic: -0.873828, relative error: 1.090049e-07\n",
      "numerical: -3.380416 analytic: -3.380416, relative error: 3.113082e-10\n",
      "numerical: -5.741333 analytic: -5.741333, relative error: 8.215707e-10\n"
     ]
    }
   ],
   "source": [
    "# Complete the implementation of softmax_loss_naive and implement a (naive)\n",
    "# version of the gradient that uses nested loops.\n",
    "loss, grad = softmax_loss_naive(W, X_dev, y_dev, 0.0)\n",
    "\n",
    "# As we did for the SVM, use numeric gradient checking as a debugging tool.\n",
    "# The numeric gradient should be close to the analytic gradient.\n",
    "from cs231n.gradient_check import grad_check_sparse\n",
    "f = lambda w: softmax_loss_naive(w, X_dev, y_dev, 0.0)[0]\n",
    "grad_numerical = grad_check_sparse(f, W, grad, 10)\n",
    "\n",
    "# similar to SVM case, do another gradient check with regularization\n",
    "loss, grad = softmax_loss_naive(W, X_dev, y_dev, 5e1)\n",
    "f = lambda w: softmax_loss_naive(w, X_dev, y_dev, 5e1)[0]\n",
    "grad_numerical = grad_check_sparse(f, W, grad, 10)"
   ]
  },
  {
   "cell_type": "code",
   "execution_count": 5,
   "metadata": {
    "scrolled": true
   },
   "outputs": [
    {
     "name": "stdout",
     "output_type": "stream",
     "text": [
      "naive loss: 2.301358e+00 computed in 0.173328s\n",
      "vectorized loss: 2.301358e+00 computed in 0.006949s\n",
      "Loss difference: 0.000000\n",
      "Gradient difference: 0.000000\n"
     ]
    }
   ],
   "source": [
    "# Now that we have a naive implementation of the softmax loss function and its gradient,\n",
    "# implement a vectorized version in softmax_loss_vectorized.\n",
    "# The two versions should compute the same results, but the vectorized version should be\n",
    "# much faster.\n",
    "tic = time.time()\n",
    "loss_naive, grad_naive = softmax_loss_naive(W, X_dev, y_dev, 0.000005)\n",
    "toc = time.time()\n",
    "print('naive loss: %e computed in %fs' % (loss_naive, toc - tic))\n",
    "\n",
    "from cs231n.classifiers.softmax import softmax_loss_vectorized\n",
    "tic = time.time()\n",
    "loss_vectorized, grad_vectorized = softmax_loss_vectorized(W, X_dev, y_dev, 0.000005)\n",
    "toc = time.time()\n",
    "print('vectorized loss: %e computed in %fs' % (loss_vectorized, toc - tic))\n",
    "\n",
    "# As we did for the SVM, we use the Frobenius norm to compare the two versions\n",
    "# of the gradient.\n",
    "grad_difference = np.linalg.norm(grad_naive - grad_vectorized, ord='fro')\n",
    "print('Loss difference: %f' % np.abs(loss_naive - loss_vectorized))\n",
    "print('Gradient difference: %f' % grad_difference)"
   ]
  },
  {
   "cell_type": "code",
   "execution_count": 6,
   "metadata": {},
   "outputs": [
    {
     "name": "stdout",
     "output_type": "stream",
     "text": [
      "iteration 0 / 2200: loss 390.600324\n",
      "iteration 100 / 2200: loss 235.635524\n",
      "iteration 200 / 2200: loss 143.156547\n",
      "iteration 300 / 2200: loss 87.509316\n",
      "iteration 400 / 2200: loss 53.644264\n",
      "iteration 500 / 2200: loss 33.288998\n",
      "iteration 600 / 2200: loss 20.844696\n",
      "iteration 700 / 2200: loss 13.462919\n",
      "iteration 800 / 2200: loss 8.978729\n",
      "iteration 900 / 2200: loss 6.225485\n",
      "iteration 1000 / 2200: loss 4.611387\n",
      "iteration 1100 / 2200: loss 3.495706\n",
      "iteration 1200 / 2200: loss 2.991356\n",
      "iteration 1300 / 2200: loss 2.675016\n",
      "iteration 1400 / 2200: loss 2.344398\n",
      "iteration 1500 / 2200: loss 2.301668\n",
      "iteration 1600 / 2200: loss 2.117609\n",
      "iteration 1700 / 2200: loss 2.026846\n",
      "iteration 1800 / 2200: loss 2.121829\n",
      "iteration 1900 / 2200: loss 2.000902\n",
      "iteration 2000 / 2200: loss 2.108684\n",
      "iteration 2100 / 2200: loss 2.094935\n",
      "iteration 0 / 2200: loss 773.845151\n",
      "iteration 100 / 2200: loss 284.231954\n",
      "iteration 200 / 2200: loss 105.330574\n",
      "iteration 300 / 2200: loss 39.944508\n",
      "iteration 400 / 2200: loss 15.931331\n",
      "iteration 500 / 2200: loss 7.187307\n",
      "iteration 600 / 2200: loss 3.884768\n",
      "iteration 700 / 2200: loss 2.741932\n",
      "iteration 800 / 2200: loss 2.296300\n",
      "iteration 900 / 2200: loss 2.166560\n",
      "iteration 1000 / 2200: loss 2.134675\n",
      "iteration 1100 / 2200: loss 2.162893\n",
      "iteration 1200 / 2200: loss 2.041852\n",
      "iteration 1300 / 2200: loss 2.115909\n",
      "iteration 1400 / 2200: loss 2.101048\n",
      "iteration 1500 / 2200: loss 2.114877\n",
      "iteration 1600 / 2200: loss 2.067613\n",
      "iteration 1700 / 2200: loss 2.116246\n",
      "iteration 1800 / 2200: loss 2.060494\n",
      "iteration 1900 / 2200: loss 2.153004\n",
      "iteration 2000 / 2200: loss 2.185779\n",
      "iteration 2100 / 2200: loss 2.092254\n",
      "iteration 0 / 2200: loss 394.593570\n",
      "iteration 100 / 2200: loss 33.141737\n",
      "iteration 200 / 2200: loss 4.541648\n",
      "iteration 300 / 2200: loss 2.180861\n",
      "iteration 400 / 2200: loss 2.090633\n",
      "iteration 500 / 2200: loss 2.068618\n",
      "iteration 600 / 2200: loss 2.026569\n",
      "iteration 700 / 2200: loss 2.027934\n",
      "iteration 800 / 2200: loss 2.025419\n",
      "iteration 900 / 2200: loss 2.052615\n",
      "iteration 1000 / 2200: loss 2.048826\n",
      "iteration 1100 / 2200: loss 2.053151\n",
      "iteration 1200 / 2200: loss 2.069957\n",
      "iteration 1300 / 2200: loss 2.113866\n",
      "iteration 1400 / 2200: loss 2.037207\n",
      "iteration 1500 / 2200: loss 2.096005\n",
      "iteration 1600 / 2200: loss 2.057873\n",
      "iteration 1700 / 2200: loss 2.116772\n",
      "iteration 1800 / 2200: loss 1.957233\n",
      "iteration 1900 / 2200: loss 1.993067\n",
      "iteration 2000 / 2200: loss 1.992827\n",
      "iteration 2100 / 2200: loss 2.032603\n",
      "iteration 0 / 2200: loss 769.384160\n",
      "iteration 100 / 2200: loss 6.898400\n",
      "iteration 200 / 2200: loss 2.116613\n",
      "iteration 300 / 2200: loss 2.119070\n",
      "iteration 400 / 2200: loss 2.101336\n",
      "iteration 500 / 2200: loss 2.114955\n",
      "iteration 600 / 2200: loss 2.042648\n",
      "iteration 700 / 2200: loss 2.050992\n",
      "iteration 800 / 2200: loss 2.140125\n",
      "iteration 900 / 2200: loss 2.117011\n",
      "iteration 1000 / 2200: loss 2.075336\n",
      "iteration 1100 / 2200: loss 2.120474\n",
      "iteration 1200 / 2200: loss 2.066939\n",
      "iteration 1300 / 2200: loss 2.134529\n",
      "iteration 1400 / 2200: loss 2.108428\n",
      "iteration 1500 / 2200: loss 2.115720\n",
      "iteration 1600 / 2200: loss 2.086417\n",
      "iteration 1700 / 2200: loss 2.081564\n",
      "iteration 1800 / 2200: loss 2.070824\n",
      "iteration 1900 / 2200: loss 2.150968\n",
      "iteration 2000 / 2200: loss 2.133936\n",
      "iteration 2100 / 2200: loss 2.083189\n",
      "lr 1.000000e-07 reg 2.500000e+04 train accuracy: 0.351980 val accuracy: 0.365000\n",
      "lr 1.000000e-07 reg 5.000000e+04 train accuracy: 0.331143 val accuracy: 0.344000\n",
      "lr 5.000000e-07 reg 2.500000e+04 train accuracy: 0.350020 val accuracy: 0.362000\n",
      "lr 5.000000e-07 reg 5.000000e+04 train accuracy: 0.325796 val accuracy: 0.336000\n",
      "best validation accuracy achieved during cross-validation: 0.365000\n"
     ]
    }
   ],
   "source": [
    "# Use the validation set to tune hyperparameters (regularization strength and\n",
    "# learning rate). You should experiment with different ranges for the learning\n",
    "# rates and regularization strengths; if you are careful you should be able to\n",
    "# get a classification accuracy of over 0.35 on the validation set.\n",
    "from cs231n.classifiers import Softmax\n",
    "results = {}\n",
    "best_val = -1\n",
    "best_softmax = None\n",
    "learning_rates = [1e-7, 5e-7]\n",
    "regularization_strengths = [2.5e4, 5e4]\n",
    "\n",
    "################################################################################\n",
    "# TODO:                                                                        #\n",
    "# Use the validation set to set the learning rate and regularization strength. #\n",
    "# This should be identical to the validation that you did for the SVM; save    #\n",
    "# the best trained softmax classifer in best_softmax.                          #\n",
    "################################################################################\n",
    "#pass\n",
    "best_accuracy = 0\n",
    "for lr in learning_rates:\n",
    "    for rs in regularization_strengths:\n",
    "        new_softmax = Softmax()\n",
    "        loss_history = new_softmax.train(X_train, y_train, learning_rate=lr, reg=rs, num_iters=2200, verbose=True)\n",
    "        predict_train = new_softmax.predict(X_train)\n",
    "        predict_val = new_softmax.predict(X_val)\n",
    "        train_accuracy = np.mean(predict_train == y_train)\n",
    "        val_accuracy = np.mean(predict_val == y_val)\n",
    "        if train_accuracy > best_accuracy:\n",
    "            best_accuracy = train_accuracy\n",
    "            best_softmax = new_softmax\n",
    "            best_val = val_accuracy\n",
    "        results[(lr,rs)] = train_accuracy, val_accuracy\n",
    "################################################################################\n",
    "#                              END OF YOUR CODE                                #\n",
    "################################################################################\n",
    "    \n",
    "# Print out results.\n",
    "for lr, reg in sorted(results):\n",
    "    train_accuracy, val_accuracy = results[(lr, reg)]\n",
    "    print('lr %e reg %e train accuracy: %f val accuracy: %f' % (\n",
    "                lr, reg, train_accuracy, val_accuracy))\n",
    "    \n",
    "print('best validation accuracy achieved during cross-validation: %f' % best_val)"
   ]
  },
  {
   "cell_type": "code",
   "execution_count": 7,
   "metadata": {},
   "outputs": [
    {
     "name": "stdout",
     "output_type": "stream",
     "text": [
      "softmax on raw pixels final test set accuracy: 0.359000\n"
     ]
    }
   ],
   "source": [
    "# evaluate on test set\n",
    "# Evaluate the best softmax on test set\n",
    "y_test_pred = best_softmax.predict(X_test)\n",
    "test_accuracy = np.mean(y_test == y_test_pred)\n",
    "print('softmax on raw pixels final test set accuracy: %f' % (test_accuracy, ))"
   ]
  },
  {
   "cell_type": "code",
   "execution_count": 8,
   "metadata": {},
   "outputs": [
    {
     "data": {
      "image/png": "[encoded data removed]",
      "text/plain": [
       "<matplotlib.figure.Figure at 0x7f8a1bd70eb8>"
      ]
     },
     "metadata": {},
     "output_type": "display_data"
    }
   ],
   "source": [
    "# Visualize the learned weights for each class\n",
    "w = best_softmax.W[:-1,:] # strip out the bias\n",
    "w = w.reshape(32, 32, 3, 10)\n",
    "\n",
    "w_min, w_max = np.min(w), np.max(w)\n",
    "\n",
    "classes = ['plane', 'car', 'bird', 'cat', 'deer', 'dog', 'frog', 'horse', 'ship', 'truck']\n",
    "for i in range(10):\n",
    "    plt.subplot(2, 5, i + 1)\n",
    "    \n",
    "    # Rescale the weights to be between 0 and 255\n",
    "    wimg = 255.0 * (w[:, :, :, i].squeeze() - w_min) / (w_max - w_min)\n",
    "    plt.imshow(wimg.astype('uint8'))\n",
    "    plt.axis('off')\n",
    "    plt.title(classes[i])"
   ]
  },
  {
   "cell_type": "code",
   "execution_count": null,
   "metadata": {},
   "outputs": [],
   "source": []
  }
 ],
 "metadata": {
  "kernelspec": {
   "display_name": "Python 3",
   "language": "python",
   "name": "python3"
  },
  "language_info": {
   "codemirror_mode": {
    "name": "ipython",
    "version": 3
   },
   "file_extension": ".py",
   "mimetype": "text/x-python",
   "name": "python",
   "nbconvert_exporter": "python",
   "pygments_lexer": "ipython3",
   "version": "3.6.4"
  }
 },
 "nbformat": 4,
 "nbformat_minor": 1
}
